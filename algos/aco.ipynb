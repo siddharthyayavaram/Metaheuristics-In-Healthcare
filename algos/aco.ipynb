{
 "cells": [
  {
   "cell_type": "code",
   "execution_count": 1,
   "metadata": {},
   "outputs": [],
   "source": [
    "import numpy as np\n",
    "from sklearn.model_selection import train_test_split\n",
    "from sklearn.ensemble import RandomForestClassifier\n",
    "from sklearn.metrics import accuracy_score\n",
    "from sklearn.datasets import fetch_openml"
   ]
  },
  {
   "cell_type": "code",
   "execution_count": 2,
   "metadata": {},
   "outputs": [],
   "source": [
    "# Load the MNIST dataset with parser='auto'\n",
    "mnist = fetch_openml('mnist_784', version=1, parser='auto')\n",
    "X, y = mnist.data, mnist.target\n",
    "X_train, X_test, y_train, y_test = train_test_split(X, y, test_size=0.3, random_state=42)\n"
   ]
  },
  {
   "cell_type": "code",
   "execution_count": 3,
   "metadata": {},
   "outputs": [],
   "source": [
    "def objective(features, X_train, X_test, y_train, y_test):\n",
    "    X_train_subset = X_train.iloc[:, features]\n",
    "    X_test_subset = X_test.iloc[:, features]\n",
    "\n",
    "    clf = RandomForestClassifier(n_estimators=5, random_state=42)\n",
    "    clf.fit(X_train_subset, y_train)\n",
    "    y_pred = clf.predict(X_test_subset)\n",
    "    acc = accuracy_score(y_test, y_pred)\n",
    "\n",
    "    return acc\n",
    "\n",
    "def generate_solutions(pheromones, num_particles, num_selected_features):\n",
    "    solutions = []\n",
    "\n",
    "    for _ in range(num_particles):\n",
    "        selected_indices = np.random.choice(len(pheromones), size=num_selected_features, replace=False, p=pheromones / np.sum(pheromones))\n",
    "        solutions.append(selected_indices.tolist())\n",
    "\n",
    "    return solutions\n",
    "\n",
    "def local_search(current_solution, X_train, X_test, y_train, y_test):\n",
    "    # Implement local search using a simple hill climbing strategy\n",
    "    current_fitness = objective(current_solution, X_train, X_test, y_train, y_test)\n",
    "\n",
    "    for _ in range(5):  # Perform 5 local search iterations\n",
    "        new_solution = current_solution.copy()\n",
    "        swap_indices = np.random.choice(len(new_solution), size=2, replace=False)\n",
    "        new_solution[swap_indices[0]], new_solution[swap_indices[1]] = new_solution[swap_indices[1]], new_solution[swap_indices[0]]\n",
    "\n",
    "        new_fitness = objective(new_solution, X_train, X_test, y_train, y_test)\n",
    "\n",
    "        if new_fitness > current_fitness:\n",
    "            current_solution = new_solution\n",
    "            current_fitness = new_fitness\n",
    "\n",
    "    return current_solution\n",
    "\n",
    "def update_pheromones(pheromones, solutions, fitness_values):\n",
    "    pheromone_update = np.zeros_like(pheromones)\n",
    "\n",
    "    elite_indices = np.argsort(fitness_values)[-len(fitness_values) // 2:]\n",
    "    for idx in elite_indices:\n",
    "        pheromone_update[solutions[idx]] += fitness_values[idx] * 2.0\n",
    "\n",
    "    return pheromone_update\n",
    "\n",
    "def aco_feature_selection(X_train, X_test, y_train, y_test, num_particles, num_iterations, num_selected_features):\n",
    "    num_features = X_train.shape[1]\n",
    "\n",
    "    pheromones = np.ones(num_features)\n",
    "\n",
    "    for iteration in range(num_iterations):\n",
    "        solutions = generate_solutions(pheromones, num_particles, num_selected_features)\n",
    "\n",
    "        # Apply local search to improve solutions\n",
    "        solutions = [local_search(solution, X_train, X_test, y_train, y_test) for solution in solutions]\n",
    "\n",
    "        fitness_values = [objective(features, X_train, X_test, y_train, y_test) for features in solutions]\n",
    "        print(fitness_values)\n",
    "\n",
    "        pheromones *= 0.5  # Evaporation\n",
    "        pheromones += update_pheromones(pheromones, solutions, fitness_values)\n",
    "\n",
    "    best_features = np.argsort(pheromones)[-num_selected_features:]\n",
    "\n",
    "    return best_features"
   ]
  },
  {
   "cell_type": "code",
   "execution_count": 4,
   "metadata": {},
   "outputs": [
    {
     "name": "stdout",
     "output_type": "stream",
     "text": [
      "[0.5606190476190476, 0.7118571428571429, 0.6614761904761904, 0.7440952380952381]\n",
      "[0.6834285714285714, 0.5823809523809523, 0.687952380952381, 0.7188095238095238]\n",
      "[0.665952380952381, 0.6299523809523809, 0.5285238095238095, 0.5991904761904762]\n",
      "Selected Features: [395 319 775  62 403 601 517  42  59 379 267 550 531 259 723  52  99 554\n",
      " 735 536 195 243 338 515 698  55 613 176]\n"
     ]
    }
   ],
   "source": [
    "# Example usage with parameters\n",
    "num_particles = 4\n",
    "num_iterations = 3\n",
    "num_selected_features = 28\n",
    "\n",
    "selected_features = aco_feature_selection(X_train, X_test, y_train, y_test, num_particles, num_iterations, num_selected_features)\n",
    "print(\"Selected Features:\", selected_features)"
   ]
  },
  {
   "cell_type": "code",
   "execution_count": 5,
   "metadata": {},
   "outputs": [],
   "source": [
    "X_train_subset = X_train.iloc[:, selected_features]\n",
    "X_test_subset = X_test.iloc[:, selected_features]\n",
    "\n",
    "clf = RandomForestClassifier(n_estimators=100, random_state=42)\n",
    "clf.fit(X_train_subset, y_train)\n",
    "y_pred = clf.predict(X_test_subset)\n",
    "acc = accuracy_score(y_test, y_pred)"
   ]
  },
  {
   "cell_type": "code",
   "execution_count": 6,
   "metadata": {},
   "outputs": [
    {
     "name": "stdout",
     "output_type": "stream",
     "text": [
      "0.7322857142857143\n"
     ]
    }
   ],
   "source": [
    "print(acc)"
   ]
  }
 ],
 "metadata": {
  "kernelspec": {
   "display_name": "Python 3",
   "language": "python",
   "name": "python3"
  },
  "language_info": {
   "codemirror_mode": {
    "name": "ipython",
    "version": 3
   },
   "file_extension": ".py",
   "mimetype": "text/x-python",
   "name": "python",
   "nbconvert_exporter": "python",
   "pygments_lexer": "ipython3",
   "version": "3.11.4"
  }
 },
 "nbformat": 4,
 "nbformat_minor": 2
}
