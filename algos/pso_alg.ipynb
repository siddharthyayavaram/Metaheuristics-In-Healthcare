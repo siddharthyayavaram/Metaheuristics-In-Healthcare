{
 "cells": [
  {
   "cell_type": "code",
   "execution_count": 1,
   "metadata": {},
   "outputs": [],
   "source": [
    "from sklearn.datasets import fetch_openml\n",
    "\n",
    "mnist = fetch_openml('mnist_784', version=1, parser = 'auto')\n",
    "X, y = mnist.data, mnist.target"
   ]
  },
  {
   "cell_type": "code",
   "execution_count": 10,
   "metadata": {},
   "outputs": [],
   "source": [
    "import numpy as np\n",
    "from sklearn.ensemble import RandomForestClassifier\n",
    "from sklearn.model_selection import train_test_split\n",
    "import random\n",
    "from sklearn.metrics import accuracy_score\n",
    "\n",
    "X_train, X_test, y_train, y_test = train_test_split(X, y, test_size=0.2, random_state=42)"
   ]
  },
  {
   "cell_type": "code",
   "execution_count": 62,
   "metadata": {},
   "outputs": [],
   "source": [
    "num_particles = 32\n",
    "num_iterations = 10\n",
    "num_features = 28\n",
    "col_len = 28\n",
    "max_value = 783\n",
    "std_dev = 150\n",
    "mean = max_value / 2\n",
    "pop_size = (num_particles, col_len)\n",
    "\n",
    "population = np.random.normal(mean, std_dev, pop_size).astype(int)\n",
    "population[population > max_value] = max_value\n",
    "population[population < 0] = 0"
   ]
  },
  {
   "cell_type": "code",
   "execution_count": 55,
   "metadata": {},
   "outputs": [
    {
     "data": {
      "text/plain": [
       "32"
      ]
     },
     "execution_count": 55,
     "metadata": {},
     "output_type": "execute_result"
    }
   ],
   "source": [
    "len(population)"
   ]
  },
  {
   "cell_type": "code",
   "execution_count": 56,
   "metadata": {},
   "outputs": [],
   "source": [
    "def pso_feature_selection(X_train, y_train, X_test, y_test, population, num_iterations):\n",
    "    num_particles= population.shape[0]\n",
    "    max_value = X_train.shape[1] - 1\n",
    "\n",
    "    c1 = c2 = 1.49\n",
    "\n",
    "    global_best = None\n",
    "    global_best_accuracy = 0.0\n",
    "\n",
    "    p_best_positions = population.copy()\n",
    "    p_best_fitness_values = np.zeros(num_particles)\n",
    "\n",
    "    velocity = np.random.randint(0, 28, size=(num_particles, num_features))\n",
    "\n",
    "    for iteration in range(1, num_iterations + 1):\n",
    "        print(global_best)\n",
    "        print()\n",
    "        print(global_best_accuracy)\n",
    "        w_max = 0.41\n",
    "        w_min = 0.4\n",
    "        w = w_max - ((w_max - w_min) * iteration) / num_iterations\n",
    "\n",
    "        for i in range(num_particles):\n",
    "            print(global_best_accuracy)\n",
    "            particle = population[i]\n",
    "\n",
    "            X_train_ind = X_train.iloc[:,particle]\n",
    "            rf_classifier = RandomForestClassifier(n_estimators=10, random_state=42)\n",
    "            rf_classifier.fit(X_train_ind, y_train)\n",
    "\n",
    "            y_pred = rf_classifier.predict(X_test.iloc[:,particle])\n",
    "\n",
    "            accuracy = accuracy_score(y_test, y_pred)\n",
    "\n",
    "            if accuracy > p_best_fitness_values[i]:\n",
    "                p_best_positions[i] = particle.copy()\n",
    "                p_best_fitness_values[i] = accuracy\n",
    "\n",
    "            if accuracy > global_best_accuracy:\n",
    "                global_best = particle.copy()\n",
    "                global_best_accuracy = accuracy\n",
    "\n",
    "        for i in range(num_particles):\n",
    "            velocity_term = w * velocity[i]\n",
    "            personal_best_term = c1  * (p_best_positions[i] - population[i])\n",
    "            global_best_term = c2  * (global_best - population[i])\n",
    "\n",
    "            velocity[i] = velocity_term + personal_best_term + global_best_term\n",
    "            population[i] = np.round(population[i] + velocity[i]).astype(int)\n",
    "\n",
    "            population[i][population[i] > max_value] = max_value\n",
    "            population[i][population[i] < 0] = 0\n",
    "\n",
    "    return global_best"
   ]
  },
  {
   "cell_type": "code",
   "execution_count": null,
   "metadata": {},
   "outputs": [],
   "source": [
    "result = pso_feature_selection(X_train, y_train, X_test, y_test, population, num_iterations)"
   ]
  },
  {
   "cell_type": "code",
   "execution_count": 58,
   "metadata": {},
   "outputs": [],
   "source": [
    "from sklearn.metrics import classification_report\n",
    "X_train, X_test, y_train, y_test = train_test_split(X, y, test_size=0.3, random_state=42)"
   ]
  },
  {
   "cell_type": "code",
   "execution_count": 72,
   "metadata": {},
   "outputs": [
    {
     "name": "stdout",
     "output_type": "stream",
     "text": [
      "Accuracy: 0.8570952380952381\n"
     ]
    }
   ],
   "source": [
    "X_train, X_test, y_train, y_test = train_test_split(X, y, test_size=0.3, random_state=42)\n",
    "\n",
    "rf_classifier = RandomForestClassifier(n_estimators=100, random_state=42)\n",
    "\n",
    "rf_classifier.fit(X_train.iloc[:,result], y_train)\n",
    "\n",
    "y_pred = rf_classifier.predict(X_test.iloc[:,result])\n",
    "accuracy = accuracy_score(y_test, y_pred)\n",
    "print(f\"Accuracy: {accuracy}\")"
   ]
  },
  {
   "cell_type": "code",
   "execution_count": 59,
   "metadata": {},
   "outputs": [
    {
     "name": "stdout",
     "output_type": "stream",
     "text": [
      "Accuracy: 0.9301904761904762\n"
     ]
    }
   ],
   "source": [
    "new_population = [150, 572, 658, 213, 262, 435, 268, 319, 485, 543, 315, 322, 405,\n",
    "       158, 265, 520, 487, 244, 183, 374, 352, 270, 327, 400, 517,  78,\n",
    "       180, 539]\n",
    "\n",
    "rf_classifier = RandomForestClassifier(n_estimators=100, random_state=42)\n",
    "\n",
    "rf_classifier.fit(X_train.iloc[:,new_population], y_train)\n",
    "\n",
    "y_pred = rf_classifier.predict(X_test.iloc[:,new_population])\n",
    "accuracy = accuracy_score(y_test, y_pred)\n",
    "print(f\"Accuracy: {accuracy}\")"
   ]
  }
 ],
 "metadata": {
  "kernelspec": {
   "display_name": "Python 3",
   "language": "python",
   "name": "python3"
  },
  "language_info": {
   "codemirror_mode": {
    "name": "ipython",
    "version": 3
   },
   "file_extension": ".py",
   "mimetype": "text/x-python",
   "name": "python",
   "nbconvert_exporter": "python",
   "pygments_lexer": "ipython3",
   "version": "3.11.4"
  }
 },
 "nbformat": 4,
 "nbformat_minor": 2
}
