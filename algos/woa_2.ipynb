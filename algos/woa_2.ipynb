{
 "cells": [
  {
   "cell_type": "code",
   "execution_count": 4,
   "metadata": {},
   "outputs": [],
   "source": [
    "import numpy as np\n",
    "from sklearn.model_selection import train_test_split\n",
    "from sklearn.ensemble import RandomForestClassifier\n",
    "from sklearn.metrics import accuracy_score\n",
    "from tqdm import tqdm"
   ]
  },
  {
   "cell_type": "code",
   "execution_count": 3,
   "metadata": {},
   "outputs": [],
   "source": [
    "from sklearn.datasets import fetch_openml\n",
    "\n",
    "mnist = fetch_openml('mnist_784', version=1,parser = 'auto')\n",
    "X, y = mnist.data, mnist.target"
   ]
  },
  {
   "cell_type": "code",
   "execution_count": 3,
   "metadata": {},
   "outputs": [],
   "source": [
    "X_train, X_test, y_train, y_test = train_test_split(X, y, test_size=0.2, random_state=42)"
   ]
  },
  {
   "cell_type": "code",
   "execution_count": 7,
   "metadata": {},
   "outputs": [],
   "source": [
    "# Example usage:\n",
    "# Assuming X_train, y_train, X_test, and y_test are already defined\n",
    "num_features = 28  # Change this according to your actual number of features\n",
    "pop_size = 16\n",
    "max_iter = 10\n",
    "\n",
    "num_particles = 16\n",
    "col_len = 28\n",
    "max_value = 783\n",
    "std_dev = 150\n",
    "mean = max_value / 2\n",
    "pop_size = (num_particles, col_len)\n",
    "\n",
    "population = np.random.normal(mean, std_dev, pop_size).astype(int)\n",
    "population[population > max_value] = max_value\n",
    "population[population < 0] = 0\n",
    "\n",
    "totalfeat = 784"
   ]
  },
  {
   "cell_type": "code",
   "execution_count": 4,
   "metadata": {},
   "outputs": [],
   "source": [
    "# Fitness function for RandomForestClassifier\n",
    "def fitness_rf_classifier(particle, X_train, X_test, y_train, y_test):\n",
    "    rf_classifier = RandomForestClassifier(n_estimators=10, random_state=42)\n",
    "    rf_classifier.fit(X_train.iloc[:, particle], y_train)\n",
    "\n",
    "    y_pred = rf_classifier.predict(X_test.iloc[:, particle])\n",
    "\n",
    "    accuracy = accuracy_score(y_test, y_pred)\n",
    "\n",
    "    return accuracy"
   ]
  },
  {
   "cell_type": "code",
   "execution_count": 5,
   "metadata": {},
   "outputs": [],
   "source": [
    "def whale_optimization_algorithm(pop, X_train, X_test, y_train, y_test, pop_size, totalfeat, max_iterations):\n",
    "    population = pop\n",
    "    \n",
    "    for iteration in tqdm(range(max_iterations)):\n",
    "        for i in range(pop_size):\n",
    "            a, A, C, l, p = np.random.uniform(-1, 1, 5)\n",
    "            \n",
    "            D = np.abs(C * population[int(p)].astype(int) - population[i].astype(int))\n",
    "            X_rand = population[int(l)] - A * D\n",
    "            new_solution = np.clip(X_rand, 0, totalfeat - 1).astype(int)\n",
    "            \n",
    "            fitness_current = fitness_rf_classifier(population[i], X_train, X_test, y_train, y_test)\n",
    "            fitness_new = fitness_rf_classifier(new_solution, X_train, X_test, y_train, y_test)\n",
    "            \n",
    "            if fitness_new > fitness_current:\n",
    "                population[i] = new_solution\n",
    "    \n",
    "    best_individual = population[np.argmax([fitness_rf_classifier(ind, X_train, X_test, y_train, y_test) for ind in population])]\n",
    "    return best_individual"
   ]
  },
  {
   "cell_type": "code",
   "execution_count": 11,
   "metadata": {},
   "outputs": [
    {
     "data": {
      "text/plain": [
       "array([722, 469, 277, 565, 357, 309, 267, 355, 384, 295, 433, 268, 374,\n",
       "       245, 583, 465,  47, 345, 337,  68, 403, 623, 206, 379, 369, 617,\n",
       "       128, 368])"
      ]
     },
     "execution_count": 11,
     "metadata": {},
     "output_type": "execute_result"
    }
   ],
   "source": [
    "population"
   ]
  },
  {
   "cell_type": "code",
   "execution_count": null,
   "metadata": {},
   "outputs": [],
   "source": [
    "# Run the WOA algorithm\n",
    "best_solution = whale_optimization_algorithm(population, X_train, X_test, y_train, y_test, pop_size[0], totalfeat, max_iter)\n",
    "\n",
    "print(\"\\nBest solution found:\")\n",
    "print(best_solution)\n",
    "accuracy = fitness_rf_classifier(best_solution, X_train, X_test, y_train, y_test)\n",
    "print(\"Accuracy of best solution = %.6f\" % accuracy)"
   ]
  },
  {
   "cell_type": "code",
   "execution_count": 1,
   "metadata": {},
   "outputs": [],
   "source": [
    "from sklearn.metrics import classification_report"
   ]
  },
  {
   "cell_type": "code",
   "execution_count": 6,
   "metadata": {},
   "outputs": [],
   "source": [
    "X_train, X_test, y_train, y_test = train_test_split(X, y, test_size=0.3, random_state=42)"
   ]
  },
  {
   "cell_type": "code",
   "execution_count": 9,
   "metadata": {},
   "outputs": [
    {
     "name": "stdout",
     "output_type": "stream",
     "text": [
      "Accuracy: 0.8739523809523809\n"
     ]
    }
   ],
   "source": [
    "new_population = [132 ,240 ,321, 301 ,327, 408 ,291 ,220 ,222, 432, 238 ,284 ,573, 147, 289,\n",
    "                 409 ,405 ,381, 483 ,514 ,307 ,281 ,601, 516 ,459 ,368, 271, 491]\n",
    "\n",
    "rf_classifier = RandomForestClassifier(n_estimators=100, random_state=42)\n",
    "\n",
    "rf_classifier.fit(X_train.iloc[:,new_population], y_train)\n",
    "\n",
    "y_pred = rf_classifier.predict(X_test.iloc[:,new_population])\n",
    "accuracy = accuracy_score(y_test, y_pred)\n",
    "print(f\"Accuracy: {accuracy}\")"
   ]
  },
  {
   "cell_type": "code",
   "execution_count": 10,
   "metadata": {},
   "outputs": [
    {
     "name": "stdout",
     "output_type": "stream",
     "text": [
      "              precision    recall  f1-score   support\n",
      "\n",
      "           0       0.93      0.96      0.94      2058\n",
      "           1       0.93      0.97      0.95      2364\n",
      "           2       0.84      0.84      0.84      2133\n",
      "           3       0.88      0.84      0.86      2176\n",
      "           4       0.81      0.85      0.83      1936\n",
      "           5       0.85      0.85      0.85      1915\n",
      "           6       0.92      0.94      0.93      2088\n",
      "           7       0.90      0.84      0.87      2248\n",
      "           8       0.85      0.84      0.84      1992\n",
      "           9       0.82      0.80      0.81      2090\n",
      "\n",
      "    accuracy                           0.87     21000\n",
      "   macro avg       0.87      0.87      0.87     21000\n",
      "weighted avg       0.87      0.87      0.87     21000\n",
      "\n"
     ]
    }
   ],
   "source": [
    "report = classification_report(y_test, y_pred)\n",
    "print(report)"
   ]
  }
 ],
 "metadata": {
  "kernelspec": {
   "display_name": "Python 3",
   "language": "python",
   "name": "python3"
  },
  "language_info": {
   "codemirror_mode": {
    "name": "ipython",
    "version": 3
   },
   "file_extension": ".py",
   "mimetype": "text/x-python",
   "name": "python",
   "nbconvert_exporter": "python",
   "pygments_lexer": "ipython3",
   "version": "3.11.4"
  }
 },
 "nbformat": 4,
 "nbformat_minor": 2
}
