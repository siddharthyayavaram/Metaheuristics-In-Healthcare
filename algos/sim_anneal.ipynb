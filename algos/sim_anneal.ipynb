{
 "cells": [
  {
   "cell_type": "code",
   "execution_count": 1,
   "metadata": {},
   "outputs": [],
   "source": [
    "from sklearn.datasets import fetch_openml\n",
    "from sklearn.model_selection import train_test_split\n",
    "from sklearn.ensemble import RandomForestClassifier\n",
    "from sklearn.metrics import accuracy_score\n",
    "import numpy as np"
   ]
  },
  {
   "cell_type": "code",
   "execution_count": 3,
   "metadata": {},
   "outputs": [],
   "source": [
    "# Load the MNIST dataset\n",
    "mnist = fetch_openml('mnist_784', version=1, parser='auto')\n",
    "X, y = mnist.data, mnist.target\n",
    "X_train, X_test, y_train, y_test = train_test_split(X, y, test_size=0.3, random_state=42)"
   ]
  },
  {
   "cell_type": "code",
   "execution_count": 17,
   "metadata": {},
   "outputs": [],
   "source": [
    "def objective(features):\n",
    "    X_train_subset = X_train.iloc[:, features]\n",
    "    X_test_subset = X_test.iloc[:, features]\n",
    "\n",
    "    clf = RandomForestClassifier(n_estimators=5, random_state=42)\n",
    "    clf.fit(X_train_subset, y_train)\n",
    "    y_pred = clf.predict(X_test_subset)\n",
    "    acc = accuracy_score(y_test, y_pred)\n",
    "\n",
    "    return acc\n",
    "\n",
    "# Simulated Annealing\n",
    "def simulated_annealing(n_features, max_iterations=1000, initial_temperature=1.0, cooling_rate=0.95):\n",
    "    current_solution = np.random.choice(X.shape[1], n_features, replace=False)\n",
    "    current_score = objective(current_solution)\n",
    "\n",
    "    best_solution = np.copy(current_solution)\n",
    "    best_score = current_score\n",
    "\n",
    "    for iteration in range(max_iterations):\n",
    "\n",
    "        if iteration % 10 == 0:\n",
    "            print(best_score)\n",
    "\n",
    "        temperature = initial_temperature * cooling_rate**iteration\n",
    "\n",
    "        # Propose a new solution by randomly changing one feature\n",
    "        new_solution = np.copy(current_solution)\n",
    "        index_to_change = np.random.randint(0, n_features)\n",
    "        new_feature = np.random.randint(0, X.shape[1])\n",
    "        while new_feature in new_solution:\n",
    "            new_feature = np.random.randint(0, X.shape[1])\n",
    "        new_solution[index_to_change] = new_feature\n",
    "\n",
    "        # Calculate the objective function value for the new solution\n",
    "        new_score = objective(new_solution)\n",
    "\n",
    "        # Accept the new solution if it's better or with a certain probability if it's worse\n",
    "        if new_score > current_score or np.random.rand() < np.exp((new_score - current_score) / temperature):\n",
    "            current_solution = np.copy(new_solution)\n",
    "            current_score = new_score\n",
    "\n",
    "        # Update the best solution if needed\n",
    "        if current_score > best_score:\n",
    "            best_solution = np.copy(current_solution)\n",
    "            best_score = current_score\n",
    "\n",
    "    return best_solution"
   ]
  },
  {
   "cell_type": "code",
   "execution_count": null,
   "metadata": {},
   "outputs": [],
   "source": [
    "# Set the number of features to select\n",
    "n_feature = 28\n",
    "\n",
    "# Run simulated annealing\n",
    "selected_features = simulated_annealing(n_feature)\n",
    "\n",
    "# Print the selected features\n",
    "print(\"Selected Features:\", selected_features)"
   ]
  },
  {
   "cell_type": "code",
   "execution_count": 19,
   "metadata": {},
   "outputs": [],
   "source": [
    "X_train_subset = X_train.iloc[:, selected_features]\n",
    "X_test_subset = X_test.iloc[:, selected_features]\n",
    "\n",
    "clf = RandomForestClassifier(n_estimators=100, random_state=42)\n",
    "clf.fit(X_train_subset, y_train)\n",
    "y_pred = clf.predict(X_test_subset)\n",
    "acc = accuracy_score(y_test, y_pred)"
   ]
  },
  {
   "cell_type": "code",
   "execution_count": 20,
   "metadata": {},
   "outputs": [
    {
     "name": "stdout",
     "output_type": "stream",
     "text": [
      "0.9250952380952381\n"
     ]
    }
   ],
   "source": [
    "print(acc)"
   ]
  },
  {
   "cell_type": "code",
   "execution_count": 30,
   "metadata": {},
   "outputs": [
    {
     "name": "stdout",
     "output_type": "stream",
     "text": [
      "[432 318 327 484 184 182 353 372 434 625 265 515 350 481 518 656 237 241\n",
      " 595 289 244 130 154 439 541 321 324 149]\n"
     ]
    }
   ],
   "source": [
    "print(selected_features)"
   ]
  },
  {
   "cell_type": "code",
   "execution_count": 11,
   "metadata": {},
   "outputs": [],
   "source": [
    "current_solution = np.random.choice(X.shape[1], n_feature, replace=False)"
   ]
  },
  {
   "cell_type": "code",
   "execution_count": 12,
   "metadata": {},
   "outputs": [],
   "source": [
    "X_train_subset = X_train.iloc[:, current_solution]\n",
    "X_test_subset = X_test.iloc[:, current_solution]\n",
    "\n",
    "clf = RandomForestClassifier(n_estimators=100, random_state=42)\n",
    "clf.fit(X_train_subset, y_train)\n",
    "y_pred = clf.predict(X_test_subset)\n",
    "acc = accuracy_score(y_test, y_pred)"
   ]
  },
  {
   "cell_type": "code",
   "execution_count": 13,
   "metadata": {},
   "outputs": [
    {
     "name": "stdout",
     "output_type": "stream",
     "text": [
      "0.5840952380952381\n"
     ]
    }
   ],
   "source": [
    "print(acc)"
   ]
  },
  {
   "cell_type": "code",
   "execution_count": 16,
   "metadata": {},
   "outputs": [
    {
     "name": "stdout",
     "output_type": "stream",
     "text": [
      "[677  72 761 639 137 196 552 700 511 275 481 279 218 722 504 152 399 782\n",
      " 241 648 526 281 122 656   2  26 153 548]\n"
     ]
    }
   ],
   "source": [
    "print(current_solution)"
   ]
  },
  {
   "cell_type": "code",
   "execution_count": 21,
   "metadata": {},
   "outputs": [],
   "source": [
    "X_train_subset = X_train\n",
    "X_test_subset = X_test\n",
    "\n",
    "clf = RandomForestClassifier(n_estimators=100, random_state=42)\n",
    "clf.fit(X_train_subset, y_train)\n",
    "y_pred = clf.predict(X_test_subset)\n",
    "acc = accuracy_score(y_test, y_pred)"
   ]
  },
  {
   "cell_type": "code",
   "execution_count": 22,
   "metadata": {},
   "outputs": [
    {
     "name": "stdout",
     "output_type": "stream",
     "text": [
      "0.9667619047619047\n"
     ]
    }
   ],
   "source": [
    "print(acc)"
   ]
  }
 ],
 "metadata": {
  "kernelspec": {
   "display_name": "Python 3",
   "language": "python",
   "name": "python3"
  },
  "language_info": {
   "codemirror_mode": {
    "name": "ipython",
    "version": 3
   },
   "file_extension": ".py",
   "mimetype": "text/x-python",
   "name": "python",
   "nbconvert_exporter": "python",
   "pygments_lexer": "ipython3",
   "version": "3.11.4"
  }
 },
 "nbformat": 4,
 "nbformat_minor": 2
}
