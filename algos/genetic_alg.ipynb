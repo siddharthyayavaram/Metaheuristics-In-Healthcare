{
 "cells": [
  {
   "cell_type": "code",
   "execution_count": 1,
   "metadata": {},
   "outputs": [],
   "source": [
    "from sklearn.datasets import fetch_openml"
   ]
  },
  {
   "cell_type": "code",
   "execution_count": 2,
   "metadata": {},
   "outputs": [],
   "source": [
    "mnist = fetch_openml('mnist_784', version=1,parser ='auto')\n",
    "X, y = mnist.data, mnist.target"
   ]
  },
  {
   "cell_type": "code",
   "execution_count": 3,
   "metadata": {},
   "outputs": [],
   "source": [
    "# from ucimlrepo import fetch_ucirepo \n",
    "\n",
    "# # fetch dataset \n",
    "# optical_recognition_of_handwritten_digits = fetch_ucirepo(id=80) \n",
    "  \n",
    "# # data (as pandas dataframes) \n",
    "# X = optical_recognition_of_handwritten_digits.data.features \n",
    "# y = optical_recognition_of_handwritten_digits.data.targets \n",
    "  \n",
    "# # metadata \n",
    "# print(optical_recognition_of_handwritten_digits.metadata) \n",
    "\n",
    "# # variable information \n",
    "# print(optical_recognition_of_handwritten_digits.variables) "
   ]
  },
  {
   "cell_type": "code",
   "execution_count": 4,
   "metadata": {},
   "outputs": [],
   "source": [
    "# y= y.to_numpy()\n",
    "# y =y.ravel()"
   ]
  },
  {
   "cell_type": "code",
   "execution_count": 3,
   "metadata": {},
   "outputs": [],
   "source": [
    "import numpy as np\n",
    "import random"
   ]
  },
  {
   "cell_type": "code",
   "execution_count": 4,
   "metadata": {},
   "outputs": [],
   "source": [
    "from sklearn.model_selection import train_test_split\n",
    "from sklearn.ensemble import RandomForestClassifier\n",
    "from sklearn.svm import SVC\n",
    "import xgboost as xgb\n",
    "from sklearn.metrics import accuracy_score"
   ]
  },
  {
   "cell_type": "code",
   "execution_count": 7,
   "metadata": {},
   "outputs": [],
   "source": [
    "# X_train, X_test, y_train, y_test = train_test_split(X, y, test_size=0.3, random_state=42)\n",
    "\n",
    "# rf_classifier = RandomForestClassifier(n_estimators=100, random_state=42)\n",
    "\n",
    "# rf_classifier.fit(X_train, y_train)\n",
    "\n",
    "# y_pred = rf_classifier.predict(X_test)\n",
    "\n",
    "# accuracy = accuracy_score(y_test, y_pred)\n",
    "# print(f\"Accuracy: {accuracy}\")"
   ]
  },
  {
   "cell_type": "code",
   "execution_count": 8,
   "metadata": {},
   "outputs": [],
   "source": [
    "# svm_classifier = SVC(kernel='linear', C=1.0)\n",
    "\n",
    "# svm_classifier.fit(X_train, y_train)\n",
    "\n",
    "# y_pred = svm_classifier.predict(X_test)\n",
    "\n",
    "# accuracy = accuracy_score(y_test, y_pred)\n",
    "# print(f\"Accuracy: {accuracy}\")"
   ]
  },
  {
   "cell_type": "code",
   "execution_count": 9,
   "metadata": {},
   "outputs": [],
   "source": [
    "# xgb_classifier = xgb.XGBClassifier()\n",
    "# xgb_classifier.fit(X_train, y_train)\n",
    "\n",
    "# y_pred = xgb_classifier.predict(X_test)\n",
    "\n",
    "# accuracy = accuracy_score(y_test, y_pred)\n",
    "# print(f\"Accuracy: {accuracy}\")"
   ]
  },
  {
   "cell_type": "code",
   "execution_count": 5,
   "metadata": {},
   "outputs": [],
   "source": [
    "def cal_pop_fitness(pop, X_train, y_train, X_test, y_test):\n",
    "    fitness = []\n",
    "    for i in range(len(pop)):\n",
    "        columns = np.unique(pop[i])\n",
    "        \n",
    "        X_train_ind = X_train.iloc[:,columns]\n",
    "        rf_classifier = RandomForestClassifier(n_estimators=5, random_state=42)\n",
    "        rf_classifier.fit(X_train_ind, y_train)\n",
    "\n",
    "        y_pred = rf_classifier.predict(X_test.iloc[:,columns])\n",
    "\n",
    "        accuracy = accuracy_score(y_test, y_pred)\n",
    "\n",
    "        fitness.append(accuracy)\n",
    "\n",
    "    return fitness\n",
    "\n",
    "def fit_svm(pop, X_train, y_train, X_test, y_test):\n",
    "    fitness = []\n",
    "    for i in range(len(pop)):\n",
    "        columns = np.unique(pop[i])\n",
    "        \n",
    "        X_train_ind = X_train.iloc[:, columns]\n",
    "        svm_classifier = SVC(kernel='linear', C=1.0)\n",
    "        svm_classifier.fit(X_train_ind, y_train)\n",
    "\n",
    "        y_pred = svm_classifier.predict(X_test.iloc[:, columns])\n",
    "\n",
    "        accuracy = accuracy_score(y_test, y_pred)\n",
    "\n",
    "        fitness.append(accuracy)\n",
    "\n",
    "    return fitness\n",
    "\n",
    "def fit_xgboost(pop, X_train, y_train, X_test, y_test):\n",
    "    fitness = []\n",
    "    for i in range(len(pop)):\n",
    "        columns = np.unique(pop[i])\n",
    "        \n",
    "        X_train_ind = X_train.iloc[:, columns]\n",
    "        xgb_classifier = xgb.XGBClassifier()\n",
    "        xgb_classifier.fit(X_train_ind, y_train)\n",
    "\n",
    "        y_pred = xgb_classifier.predict(X_test.iloc[:, columns])\n",
    "\n",
    "        accuracy = accuracy_score(y_test, y_pred)\n",
    "\n",
    "        fitness.append(accuracy)\n",
    "\n",
    "    return fitness\n",
    "\n",
    "def select_mating_pool(pop, fitness, num_parents):\n",
    "    # Selecting the best individuals in the current generation as parents for producing the offspring of the next generation.\n",
    "    parents = np.empty((num_parents, pop.shape[1]))\n",
    "    for parent_num in range(num_parents):\n",
    "        max_fitness_idx = np.where(fitness == np.max(fitness))\n",
    "        max_fitness_idx = max_fitness_idx[0][0]\n",
    "        parents[parent_num, :] = pop[max_fitness_idx, :]\n",
    "        fitness[max_fitness_idx] = -1\n",
    "    return parents\n",
    "\n",
    "def crossover(parents, offspring_size):\n",
    "    offspring = np.empty(offspring_size)\n",
    "\n",
    "    for k in range(offspring_size[0]):\n",
    "        # Always perform one-point crossover.\n",
    "        crossover_point = np.random.randint(1, parents.shape[1])\n",
    "        parent1_idx = k % parents.shape[0]\n",
    "        parent2_idx = (k + 1) % parents.shape[0]\n",
    "        offspring[k, :crossover_point] = parents[parent1_idx, :crossover_point]\n",
    "        offspring[k, crossover_point:] = parents[parent2_idx, crossover_point:]\n",
    "\n",
    "    return offspring\n",
    "\n",
    "def mutation(offspring_crossover):\n",
    "    # Mutation changes a single gene in each offspring randomly.\n",
    "    for idx in range(offspring_crossover.shape[0]):\n",
    "        # The random value to be added to the gene.\n",
    "        random_value = np.random.choice([-1, 0, 1], 1)\n",
    "        offspring_crossover[idx, 4] = offspring_crossover[idx, 4] + random_value\n",
    "    return offspring_crossover"
   ]
  },
  {
   "cell_type": "code",
   "execution_count": 32,
   "metadata": {},
   "outputs": [
    {
     "name": "stdout",
     "output_type": "stream",
     "text": [
      "[[109 301 370 292 332 475 118 616 430 333 428 275 483 248 464 346 450 704\n",
      "  376 254 496 654 248 526 290 410 562 283]\n",
      " [443 373 550 727 209 161 569 257 381 204 467 290 520 333 124 623  54 512\n",
      "  492 503 421 301 346 577 430 270 338 477]\n",
      " [399 316 588 451 426 434 208 360 454 447 496 486 408 632 405 390 268 221\n",
      "  492   0 523 301 288 549 585 591 479 344]\n",
      " [392 475 341 407 240 321 197 283 261 471 504 176 260 423 483 684 300 423\n",
      "  359 187 525 661 466 343  48 574 556 402]\n",
      " [536 167 415 319 494 441  95 622 616 420 532 718 430 487 265 416 392 330\n",
      "  593 335 771 750 160 562 532 339 439 571]\n",
      " [272 268 693   0 290 505 348 418 524 439 393 283 418 542 549 528 367 268\n",
      "  334 282 495 395 479 227 418 619 369 281]\n",
      " [379 530 279 373 455 214 110 393 578 430 504 608 292  80 406 448 488 556\n",
      "  360 550 299 315 452 630 571 651 320 563]\n",
      " [577 461 614 343 369 363 273 340 274 418 466 572 233 148 191 222   0 482\n",
      "  200 415 221 387 524 353 579 334 640 515]\n",
      " [266 483 289 271 566 783 587 716 607 460 338 190 593 453 456 530 535 395\n",
      "  310 263 110 332 522 400 360 188 398 492]\n",
      " [139 291 311 331 415 600 401 575 314 552 548 501 308 502 437 423 415 244\n",
      "  426 508 473 329 282 215 499 502 468 237]\n",
      " [372 459 235 239 507 470 540 534 294 604  79 295 485 625 595 583 433 216\n",
      "  405 324 360  27 329 339 300 652 534 597]\n",
      " [375 430 580 271 376 463 216 100 238 397 577 384 325 422 283 548 401 442\n",
      "  509 412 323 443 495 318 236 357 247 486]\n",
      " [188 579 592 191 475 146 372 454 293 127 295 649 465 239 409 341 599 407\n",
      "  540 249 384 387 225  27 478 367 609 527]\n",
      " [669 457 474 263 492 297 350 494 309 271 319 415 455 170 669 569 271 471\n",
      "  491  31 465 405 199 605 313 403 422 114]\n",
      " [305 417 320 263 507 343 280 160 141 165 322 249 333 521 589 498 400 430\n",
      "  405 134 476 498 149 517   0 313 178 358]\n",
      " [555 528 249 548 541 410 619 148 488 402 360 592 112 111 302  48 373 425\n",
      "  477 359 425 398 426 335 364 325 438 457]\n",
      " [312 512 388  71 522 341 304 510 208 388 261 273 255 281 413 281 251 145\n",
      "  525 461 418 318 621 376 163   0 551 416]\n",
      " [228 515 513 298 302 218 482 477 490 390 488 354 601 375 218 392 351 455\n",
      "  414 477 445 153 585 459 323 328 268 200]\n",
      " [471 338 676 362 319 650 129 450 279 680 219 181 665 647 328 494 328 362\n",
      "  275 121 468 686 679 590 322 291 584 202]\n",
      " [331 373 417 311 616 143 510 574 250 394 254 478 591 135 266 378 298 353\n",
      "  243 481 462 357 485 537 335 420 302 648]\n",
      " [486 347 459 508  73 477 332 588 554 403 304 114 263 438 347 316 253 536\n",
      "  579 345 403 336 362 245 370 435 629 303]\n",
      " [488 384 485 200 628 326 159 544 271 425 474 490 587  67 508 321  51 462\n",
      "  245 416 559 622 417 398 484 551 594 435]\n",
      " [477 267 366 591 557 470 272 570 331 356  52 307 315 337 598 360 460 428\n",
      "  211 160 307 450 585 372 385 231 517 356]\n",
      " [438 299 349 360 259 293 563 695 422 483 248 392 537 402 570 480 216 474\n",
      "  196 243  29 482 408 371 462 260 723 447]\n",
      " [341 199 547 536 456 341 398 349 270 433 404 148 459 288 346 647 209 436\n",
      "  256 419 393 458 281 580 349 331 548 122]\n",
      " [339 503 304 467 536 209 244 514 241 196  86 283 373 149 508 442 345 629\n",
      "  265 616 337 505 467 482 646 526 372 318]\n",
      " [280 232 282 253 569 662 207 652 556 455 429 342 343 450 388 225 447 555\n",
      "  394 517 498 343 435 663 184 159 622 548]\n",
      " [630 486 512 357 443 254 340 166 322 270 204 498 571 168 411 437 476 553\n",
      "  618 450 229 396 424 509 511 195 366 408]\n",
      " [371 488 441 280 362 285 617 407 522 252 590 428 493 647 354 261  83 332\n",
      "  265 729 568 400 412 485 485 427 449 136]\n",
      " [485 544   0 246 331 212 345 495 665 417 433 416 268 660 491 384 643 221\n",
      "  358 497 154 173 322  52 656 165 589 629]\n",
      " [698 472 238 323 527 365 541 385 533 349 307 472 309 451 289 374 291 320\n",
      "  238 279  19 621 300 399 451 335 450 383]\n",
      " [247  84 117 550 300 549 451 504 419 338 435 628 161 590 166 392 226 210\n",
      "  777 435 783 253 622 626 492 336 305 360]]\n"
     ]
    }
   ],
   "source": [
    "col_len = 28\n",
    "\n",
    "sol_per_pop = 32\n",
    "num_parents_mating = 8\n",
    "\n",
    "pop_size = (sol_per_pop,col_len)\n",
    "\n",
    "max_value = 783 \n",
    "std_dev = 150\n",
    "mean = max_value / 2\n",
    "\n",
    "new_population = np.random.normal(mean, std_dev, pop_size).astype(int)\n",
    "\n",
    "new_population[new_population > max_value] = max_value\n",
    "new_population[new_population < 0] = 0\n",
    "\n",
    "print(new_population)"
   ]
  },
  {
   "cell_type": "code",
   "execution_count": 33,
   "metadata": {},
   "outputs": [],
   "source": [
    "y=y.astype('int64')"
   ]
  },
  {
   "cell_type": "code",
   "execution_count": 34,
   "metadata": {},
   "outputs": [],
   "source": [
    "X_train, X_test, y_train, y_test = train_test_split(X, y, test_size=0.3, random_state=42)\n",
    "X_train = X_train[:10000]\n",
    "X_test = X_test[:3000]\n",
    "y_train = y_train[:10000]\n",
    "y_test = y_test[:3000]"
   ]
  },
  {
   "cell_type": "code",
   "execution_count": 35,
   "metadata": {},
   "outputs": [
    {
     "name": "stdout",
     "output_type": "stream",
     "text": [
      "[0.7366666666666667, 0.8076666666666666, 0.7496666666666667, 0.7556666666666667, 0.6433333333333333, 0.6346666666666667, 0.8083333333333333, 0.722, 0.7356666666666667, 0.7036666666666667, 0.808, 0.8363333333333334, 0.7603333333333333, 0.767, 0.7263333333333334, 0.7166666666666667, 0.7133333333333334, 0.8103333333333333, 0.672, 0.7123333333333334, 0.748, 0.757, 0.738, 0.7516666666666667, 0.775, 0.7246666666666667, 0.7213333333333334, 0.7086666666666667, 0.732, 0.8123333333333334, 0.7136666666666667, 0.6153333333333333]\n",
      "Generation :  0\n",
      "\n",
      "[0.8363333333333334, 0.8123333333333334, 0.8103333333333333, 0.8083333333333333, 0.808, 0.8076666666666666, 0.775, 0.767, 0.809, 0.8293333333333334, 0.792, 0.7726666666666666, 0.8363333333333334, 0.8163333333333334, 0.7656666666666667, 0.7856666666666666, 0.8246666666666667, 0.8083333333333333, 0.8013333333333333, 0.7896666666666666, 0.8096666666666666, 0.8096666666666666, 0.7656666666666667, 0.84, 0.8233333333333334, 0.8013333333333333, 0.784, 0.8046666666666666, 0.7836666666666666, 0.7996666666666666, 0.733, 0.84]\n",
      "Generation :  1\n",
      "\n",
      "[0.84, 0.84, 0.8363333333333334, 0.8363333333333334, 0.8293333333333334, 0.8246666666666667, 0.8233333333333334, 0.8163333333333334, 0.84, 0.84, 0.7966666666666666, 0.8203333333333334, 0.8026666666666666, 0.8233333333333334, 0.8163333333333334, 0.8473333333333334, 0.84, 0.8336666666666667, 0.8163333333333334, 0.8243333333333334, 0.7813333333333333, 0.831, 0.805, 0.8473333333333334, 0.84, 0.8336666666666667, 0.777, 0.8343333333333334, 0.828, 0.8176666666666667, 0.7786666666666666, 0.8433333333333334]\n",
      "Generation :  2\n",
      "\n",
      "[0.8473333333333334, 0.8473333333333334, 0.8433333333333334, 0.84, 0.84, 0.84, 0.84, 0.84, 0.8353333333333334, 0.8433333333333334, 0.8513333333333334, 0.8396666666666667, 0.84, 0.8396666666666667, 0.84, 0.84, 0.8506666666666667, 0.842, 0.799, 0.8396666666666667, 0.8336666666666667, 0.84, 0.84, 0.84, 0.8473333333333334, 0.8353333333333334, 0.8433333333333334, 0.84, 0.84, 0.84, 0.84, 0.8486666666666667]\n",
      "Generation :  3\n",
      "\n",
      "[0.8513333333333334, 0.8506666666666667, 0.8486666666666667, 0.8473333333333334, 0.8473333333333334, 0.8473333333333334, 0.8433333333333334, 0.8433333333333334, 0.8483333333333334, 0.8473333333333334, 0.8493333333333334, 0.8353333333333334, 0.8506666666666667, 0.858, 0.8433333333333334, 0.842, 0.8483333333333334, 0.8506666666666667, 0.8486666666666667, 0.8353333333333334, 0.8353333333333334, 0.836, 0.842, 0.8433333333333334, 0.8506666666666667, 0.8483333333333334, 0.8486666666666667, 0.8353333333333334, 0.8473333333333334, 0.8473333333333334, 0.849, 0.8513333333333334]\n",
      "Generation :  4\n",
      "\n",
      "[0.858, 0.8513333333333334, 0.8513333333333334, 0.8506666666666667, 0.8506666666666667, 0.8506666666666667, 0.8506666666666667, 0.8493333333333334, 0.8496666666666667, 0.858, 0.8483333333333334, 0.8473333333333334, 0.8473333333333334, 0.8473333333333334, 0.8506666666666667, 0.853, 0.8496666666666667, 0.8513333333333334, 0.8473333333333334, 0.8506666666666667, 0.8473333333333334, 0.8506666666666667, 0.8483333333333334, 0.8493333333333334, 0.8493333333333334, 0.858, 0.8473333333333334, 0.8483333333333334, 0.8506666666666667, 0.8506666666666667, 0.8483333333333334, 0.853]\n",
      "Generation :  5\n",
      "\n",
      "[0.858, 0.858, 0.858, 0.853, 0.853, 0.8513333333333334, 0.8513333333333334, 0.8513333333333334, 0.853, 0.8513333333333334, 0.855, 0.859, 0.8556666666666667, 0.858, 0.8483333333333334, 0.8496666666666667, 0.8513333333333334, 0.858, 0.8513333333333334, 0.853, 0.857, 0.858, 0.8513333333333334, 0.858, 0.8496666666666667, 0.8496666666666667, 0.858, 0.853, 0.857, 0.858, 0.8513333333333334, 0.8483333333333334]\n",
      "Generation :  6\n",
      "\n",
      "[0.859, 0.858, 0.858, 0.858, 0.858, 0.858, 0.858, 0.858, 0.859, 0.8513333333333334, 0.858, 0.8513333333333334, 0.8496666666666667, 0.8496666666666667, 0.8496666666666667, 0.858, 0.8526666666666667, 0.858, 0.858, 0.858, 0.8513333333333334, 0.858, 0.8496666666666667, 0.8496666666666667, 0.8526666666666667, 0.849, 0.858, 0.8496666666666667, 0.858, 0.8496666666666667, 0.858, 0.8496666666666667]\n",
      "Generation :  7\n",
      "\n",
      "[0.859, 0.859, 0.858, 0.858, 0.858, 0.858, 0.858, 0.858, 0.859, 0.853, 0.848, 0.858, 0.8496666666666667, 0.8513333333333334, 0.8496666666666667, 0.8496666666666667, 0.8526666666666667, 0.859, 0.858, 0.8496666666666667, 0.8496666666666667, 0.8496666666666667, 0.8513333333333334, 0.8513333333333334, 0.8526666666666667, 0.8506666666666667, 0.842, 0.8513333333333334, 0.858, 0.8496666666666667, 0.858, 0.858]\n",
      "Generation :  8\n",
      "\n",
      "[0.859, 0.859, 0.859, 0.859, 0.858, 0.858, 0.858, 0.858, 0.859, 0.859, 0.859, 0.853, 0.848, 0.8496666666666667, 0.8496666666666667, 0.8496666666666667, 0.8526666666666667, 0.859, 0.8526666666666667, 0.853, 0.8376666666666667, 0.8513333333333334, 0.858, 0.855, 0.859, 0.859, 0.853, 0.8526666666666667, 0.8496666666666667, 0.8513333333333334, 0.858, 0.858]\n",
      "Generation :  9\n",
      "\n"
     ]
    }
   ],
   "source": [
    "num_generations = 10\n",
    "for generation in range(num_generations):\n",
    "    # Measing the fitness of each chromosome in the population.\n",
    "    fitness = cal_pop_fitness(new_population, X_train,y_train,X_test,y_test)\n",
    "\n",
    "    print(fitness)\n",
    "\n",
    "    # Selecting the best parents in the population for mating.\n",
    "    parents = select_mating_pool(new_population, fitness, \n",
    "                                      num_parents_mating)\n",
    "    \n",
    "    # print(parents)\n",
    "\n",
    "    # Generating next generation using crossover.\n",
    "    offspring_crossover = crossover(parents,\n",
    "                                       offspring_size=(pop_size[0]-parents.shape[0], col_len))\n",
    "\n",
    "\n",
    "    # Adding some variations to the offsrping using mutation.\n",
    "    offspring_mutation = mutation(offspring_crossover)\n",
    "\n",
    "    # print(offspring_mutation)\n",
    "\n",
    "    # Creating the new population based on the parents and offspring.\n",
    "    new_population[0:parents.shape[0], :] = parents\n",
    "    new_population[parents.shape[0]:, :] = offspring_mutation  # should be offspring_mutation\n",
    "\n",
    "    # The best result in the current iteration.\n",
    "    print(\"Generation : \", generation)\n",
    "    # print(offspring_crossover)\n",
    "    print()"
   ]
  },
  {
   "cell_type": "code",
   "execution_count": 36,
   "metadata": {},
   "outputs": [
    {
     "name": "stdout",
     "output_type": "stream",
     "text": [
      "Best solution fitness :  0.859\n"
     ]
    }
   ],
   "source": [
    "# Getting the best solution after iterating finishing all generations.\n",
    "#At first, the fitness is calculated for each solution in the final generation.\n",
    "fitness = cal_pop_fitness(new_population, X_train, y_train, X_test,y_test)\n",
    "# Then return the index of that solution corresponding to the best fitness.\n",
    "best_match_idx = np.where(fitness == np.max(fitness))\n",
    "\n",
    "# print(\"Best solution : \", new_population[best_match_idx, :])\n",
    "print(\"Best solution fitness : \", fitness[best_match_idx[0][0]])"
   ]
  },
  {
   "cell_type": "code",
   "execution_count": 38,
   "metadata": {},
   "outputs": [
    {
     "name": "stdout",
     "output_type": "stream",
     "text": [
      "Best solution :  [[[669 373 550 727 213 161 569 349 270 433 404 148 459 288 346 647 209\n",
      "   436 256 412 323 443 495 318 236 357 247 486]\n",
      "  [669 373 550 727 213 161 569 349 270 433 404 148 459 288 346 647 209\n",
      "   436 256 412 323 443 495 318 236 357 247 486]\n",
      "  [669 373 550 727 213 161 569 349 270 433 404 148 459 288 346 647 209\n",
      "   436 256 412 323 443 495 318 236 357 247 486]\n",
      "  [669 373 550 727 213 161 569 349 270 433 404 148 459 288 346 647 209\n",
      "   436 256 412 323 443 495 318 236 357 247 486]\n",
      "  [669 373 550 727 213 161 569 349 270 433 404 148 459 288 346 647 209\n",
      "   436 256 412 323 443 495 318 236 357 247 486]\n",
      "  [669 373 550 727 213 161 569 349 270 433 404 148 459 288 346 647 209\n",
      "   436 256 412 323 443 495 318 236 357 247 486]\n",
      "  [669 373 550 727 213 161 569 349 270 433 404 148 459 288 346 647 209\n",
      "   436 256 412 323 443 495 318 236 357 247 486]\n",
      "  [669 373 550 727 213 161 569 349 270 433 404 148 459 288 346 647 209\n",
      "   436 256 412 323 443 495 318 236 357 247 486]\n",
      "  [669 373 550 727 213 161 569 349 270 433 404 148 459 288 346 647 209\n",
      "   436 256 412 323 443 495 318 236 357 247 486]\n",
      "  [669 373 550 727 213 161 569 349 270 433 404 148 459 288 346 647 209\n",
      "   436 256 412 323 443 495 318 236 357 247 486]\n",
      "  [669 373 550 727 213 161 569 349 270 433 404 148 459 288 346 647 209\n",
      "   436 256 412 323 443 495 318 236 357 247 486]\n",
      "  [669 373 550 727 213 161 569 349 270 433 404 148 459 288 346 647 209\n",
      "   436 256 412 323 443 495 318 236 357 247 486]\n",
      "  [669 373 550 727 213 161 569 349 270 433 404 148 459 288 346 647 209\n",
      "   436 256 412 323 443 495 318 236 357 247 486]\n",
      "  [669 373 550 727 213 161 569 349 270 433 404 148 459 288 346 647 209\n",
      "   436 256 412 323 443 495 318 236 357 247 486]\n",
      "  [669 373 550 727 213 161 569 349 270 433 404 148 459 288 346 647 209\n",
      "   436 256 412 323 443 495 318 236 357 247 486]]]\n"
     ]
    }
   ],
   "source": [
    "print(\"Best solution : \", new_population[best_match_idx, :])"
   ]
  },
  {
   "cell_type": "markdown",
   "metadata": {},
   "source": [
    "[233  27 577 438 237 429 197 553 573 487 466 510 348 153 139 612 625\n",
    "   640 375 342 463 723 656 384 571 380 291 339]\n",
    "\n",
    "0.8791428571428571\n",
    "\n",
    "1m 9s\n",
    "\n",
    "20s"
   ]
  },
  {
   "cell_type": "code",
   "execution_count": 25,
   "metadata": {},
   "outputs": [
    {
     "name": "stdout",
     "output_type": "stream",
     "text": [
      "Accuracy: 0.9667619047619047\n"
     ]
    }
   ],
   "source": [
    "X_train, X_test, y_train, y_test = train_test_split(X, y, test_size=0.3, random_state=42)\n",
    "\n",
    "rf_classifier = RandomForestClassifier(n_estimators=100, random_state=42)\n",
    "\n",
    "rf_classifier.fit(X_train, y_train)\n",
    "\n",
    "y_pred = rf_classifier.predict(X_test)\n",
    "\n",
    "accuracy = accuracy_score(y_test, y_pred)\n",
    "print(f\"Accuracy: {accuracy}\")"
   ]
  },
  {
   "cell_type": "code",
   "execution_count": 39,
   "metadata": {},
   "outputs": [],
   "source": [
    "feat = new_population[best_match_idx, :]"
   ]
  },
  {
   "cell_type": "code",
   "execution_count": 40,
   "metadata": {},
   "outputs": [
    {
     "data": {
      "text/plain": [
       "array([669, 373, 550, 727, 213, 161, 569, 349, 270, 433, 404, 148, 459,\n",
       "       288, 346, 647, 209, 436, 256, 412, 323, 443, 495, 318, 236, 357,\n",
       "       247, 486])"
      ]
     },
     "execution_count": 40,
     "metadata": {},
     "output_type": "execute_result"
    }
   ],
   "source": [
    "feat[0][0]"
   ]
  },
  {
   "cell_type": "code",
   "execution_count": 41,
   "metadata": {},
   "outputs": [
    {
     "name": "stdout",
     "output_type": "stream",
     "text": [
      "Accuracy: 0.8866190476190476\n"
     ]
    }
   ],
   "source": [
    "X_train, X_test, y_train, y_test = train_test_split(X, y, test_size=0.3, random_state=42)\n",
    "\n",
    "rf_classifier = RandomForestClassifier(n_estimators=100, random_state=42)\n",
    "\n",
    "rf_classifier.fit(X_train.iloc[:,feat[0][0]], y_train)\n",
    "\n",
    "y_pred = rf_classifier.predict(X_test.iloc[:,feat[0][0]])\n",
    "accuracy = accuracy_score(y_test, y_pred)\n",
    "print(f\"Accuracy: {accuracy}\")"
   ]
  },
  {
   "cell_type": "code",
   "execution_count": 42,
   "metadata": {},
   "outputs": [
    {
     "name": "stdout",
     "output_type": "stream",
     "text": [
      "Accuracy: 0.6312380952380953\n"
     ]
    }
   ],
   "source": [
    "new_population = np.random.randint(0, 783, size=28)\n",
    "\n",
    "rf_classifier = RandomForestClassifier(n_estimators=100, random_state=42)\n",
    "\n",
    "rf_classifier.fit(X_train.iloc[:,new_population], y_train)\n",
    "\n",
    "y_pred = rf_classifier.predict(X_test.iloc[:,new_population])\n",
    "accuracy = accuracy_score(y_test, y_pred)\n",
    "print(f\"Accuracy: {accuracy}\")"
   ]
  },
  {
   "cell_type": "code",
   "execution_count": 43,
   "metadata": {},
   "outputs": [
    {
     "data": {
      "text/plain": [
       "array([614, 298, 516, 288, 517, 630,  14, 104,  32, 608, 151, 772, 746,\n",
       "       170,  15, 575, 645,  71, 671, 124, 127, 499, 490, 704,  86,   7,\n",
       "       284, 594])"
      ]
     },
     "execution_count": 43,
     "metadata": {},
     "output_type": "execute_result"
    }
   ],
   "source": [
    "new_population"
   ]
  },
  {
   "cell_type": "code",
   "execution_count": 31,
   "metadata": {},
   "outputs": [
    {
     "data": {
      "text/plain": [
       "98.32528814895085"
      ]
     },
     "execution_count": 31,
     "metadata": {},
     "output_type": "execute_result"
    }
   ],
   "source": [
    "0.9505714285714286/0.96676190476190470 * 100"
   ]
  }
 ],
 "metadata": {
  "kernelspec": {
   "display_name": "Python 3",
   "language": "python",
   "name": "python3"
  },
  "language_info": {
   "codemirror_mode": {
    "name": "ipython",
    "version": 3
   },
   "file_extension": ".py",
   "mimetype": "text/x-python",
   "name": "python",
   "nbconvert_exporter": "python",
   "pygments_lexer": "ipython3",
   "version": "3.11.4"
  }
 },
 "nbformat": 4,
 "nbformat_minor": 2
}
