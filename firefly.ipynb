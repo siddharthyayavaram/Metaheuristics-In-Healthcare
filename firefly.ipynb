{
 "cells": [
  {
   "cell_type": "code",
   "execution_count": 1,
   "metadata": {},
   "outputs": [],
   "source": [
    "import numpy as np\n",
    "from sklearn.datasets import fetch_openml\n",
    "from sklearn.ensemble import RandomForestClassifier\n",
    "from sklearn.model_selection import train_test_split\n",
    "from sklearn.metrics import accuracy_score"
   ]
  },
  {
   "cell_type": "code",
   "execution_count": 2,
   "metadata": {},
   "outputs": [
    {
     "name": "stderr",
     "output_type": "stream",
     "text": [
      "c:\\Users\\siddh\\AppData\\Local\\Programs\\Python\\Python311\\Lib\\site-packages\\sklearn\\datasets\\_openml.py:1002: FutureWarning: The default value of `parser` will change from `'liac-arff'` to `'auto'` in 1.4. You can set `parser='auto'` to silence this warning. Therefore, an `ImportError` will be raised from 1.4 if the dataset is dense and pandas is not installed. Note that the pandas parser may return different data types. See the Notes Section in fetch_openml's API doc for details.\n",
      "  warn(\n"
     ]
    }
   ],
   "source": [
    "# Load the MNIST dataset\n",
    "mnist = fetch_openml('mnist_784', version=1)\n",
    "X, y = mnist.data, mnist.target\n",
    "X_train, X_test, y_train, y_test = train_test_split(X, y, test_size=0.3, random_state=42)"
   ]
  },
  {
   "cell_type": "code",
   "execution_count": 10,
   "metadata": {},
   "outputs": [],
   "source": [
    "def initialize_fireflies(num_fireflies, num_features, num_selected_features):\n",
    "    fireflies = np.zeros((num_fireflies, num_features), dtype=bool)\n",
    "    \n",
    "    for i in range(num_fireflies):\n",
    "        selected_indices = np.random.choice(num_features, num_selected_features, replace=False)\n",
    "        fireflies[i, selected_indices] = 1\n",
    "    \n",
    "    return fireflies\n",
    "\n",
    "def evaluate_fireflies(X_train, y_train, X_test, y_test, fireflies):\n",
    "    accuracies = []\n",
    "\n",
    "    for firefly in fireflies:\n",
    "        selected_features = np.where(firefly)[0]\n",
    "        X_train_selected = X_train[:, selected_features]\n",
    "        X_test_selected = X_test[:, selected_features]\n",
    "\n",
    "        classifier = RandomForestClassifier(n_estimators=5, random_state=42)\n",
    "        classifier.fit(X_train_selected, y_train)\n",
    "        \n",
    "        y_pred = classifier.predict(X_test_selected)\n",
    "        accuracy = accuracy_score(y_test, y_pred)\n",
    "        accuracies.append(accuracy)\n",
    "\n",
    "    return np.array(accuracies)\n",
    "\n",
    "def move_fireflies(fireflies, attractiveness_matrix, beta=1.0):\n",
    "    num_fireflies = fireflies.shape[0]\n",
    "    num_features = fireflies.shape[1]\n",
    "    new_fireflies = fireflies.copy()\n",
    "\n",
    "    for i in range(num_fireflies):\n",
    "        for j in range(num_fireflies):\n",
    "            if attractiveness_matrix[i, j] > attractiveness_matrix[i, i]:\n",
    "                epsilon = np.random.uniform(0, 1, size=num_features)\n",
    "                new_fireflies[i] += beta * (fireflies[j] ^ fireflies[i]) + epsilon\n",
    "\n",
    "    new_fireflies[new_fireflies > 1] = 1\n",
    "    new_fireflies[new_fireflies < 0] = 0\n",
    "\n",
    "    return new_fireflies\n",
    "\n",
    "def firefly_algorithm_feature_selection(X_train, y_train, X_test, y_test, num_fireflies, num_iterations, num_selected_features, beta=1.0):\n",
    "    num_features = X_train.shape[1]\n",
    "    fireflies = initialize_fireflies(num_fireflies, num_features, num_selected_features)\n",
    "    global_best = None\n",
    "    global_best_accuracy = 0.0\n",
    "\n",
    "    # Inside the firefly_algorithm_feature_selection function\n",
    "\n",
    "    for iteration in range(1, num_iterations + 1):\n",
    "        print(\"Iteration:\", iteration)\n",
    "\n",
    "        # Evaluate fireflies\n",
    "        firefly_accuracies = evaluate_fireflies(X_train, y_train, X_test, y_test, fireflies)\n",
    "        print(\"Firefly Accuracies:\", firefly_accuracies)\n",
    "\n",
    "        # Find the index of the best firefly\n",
    "        best_firefly_index = np.argmax(firefly_accuracies)\n",
    "        # print(\"Best Firefly Index:\", best_firefly_index)\n",
    "        \n",
    "        if firefly_accuracies[best_firefly_index] > global_best_accuracy:\n",
    "            global_best = fireflies[best_firefly_index].copy()\n",
    "            global_best_accuracy = firefly_accuracies[best_firefly_index]\n",
    "\n",
    "        # Update fireflies' positions\n",
    "        attractiveness_matrix = np.exp(-beta * np.linalg.norm(fireflies ^ fireflies[:, np.newaxis], axis=2))\n",
    "        # print(\"Attractiveness Matrix:\", attractiveness_matrix)\n",
    "        \n",
    "        new_fireflies = move_fireflies(fireflies, attractiveness_matrix, beta=beta)\n",
    "        # print(\"New Fireflies:\", new_fireflies)\n",
    "        \n",
    "        fireflies = new_fireflies\n",
    "\n",
    "    # Select top num_selected_features based on the global_best\n",
    "    selected_indices = np.where(global_best)[0]\n",
    "    print(\"Selected Feature Indices:\", selected_indices)\n",
    "    return selected_indices\n"
   ]
  },
  {
   "cell_type": "code",
   "execution_count": 11,
   "metadata": {},
   "outputs": [
    {
     "name": "stdout",
     "output_type": "stream",
     "text": [
      "Iteration: 1\n",
      "Firefly Accuracies: [0.69814286 0.47109524 0.73842857 0.62209524 0.65390476 0.64266667\n",
      " 0.60119048 0.67885714 0.64438095 0.66952381]\n",
      "Iteration: 2\n",
      "Firefly Accuracies: [0.69814286 0.47109524 0.73842857 0.62209524 0.65390476 0.64266667\n",
      " 0.60119048 0.67885714 0.64438095 0.66952381]\n",
      "Iteration: 3\n",
      "Firefly Accuracies: [0.69814286 0.47109524 0.73842857 0.62209524 0.65390476 0.64266667\n",
      " 0.60119048 0.67885714 0.64438095 0.66952381]\n",
      "Iteration: 4\n",
      "Firefly Accuracies: [0.69814286 0.47109524 0.73842857 0.62209524 0.65390476 0.64266667\n",
      " 0.60119048 0.67885714 0.64438095 0.66952381]\n",
      "Iteration: 5\n",
      "Firefly Accuracies: [0.69814286 0.47109524 0.73842857 0.62209524 0.65390476 0.64266667\n",
      " 0.60119048 0.67885714 0.64438095 0.66952381]\n",
      "Iteration: 6\n",
      "Firefly Accuracies: [0.69814286 0.47109524 0.73842857 0.62209524 0.65390476 0.64266667\n",
      " 0.60119048 0.67885714 0.64438095 0.66952381]\n",
      "Iteration: 7\n",
      "Firefly Accuracies: [0.69814286 0.47109524 0.73842857 0.62209524 0.65390476 0.64266667\n",
      " 0.60119048 0.67885714 0.64438095 0.66952381]\n",
      "Iteration: 8\n",
      "Firefly Accuracies: [0.69814286 0.47109524 0.73842857 0.62209524 0.65390476 0.64266667\n",
      " 0.60119048 0.67885714 0.64438095 0.66952381]\n",
      "Iteration: 9\n",
      "Firefly Accuracies: [0.69814286 0.47109524 0.73842857 0.62209524 0.65390476 0.64266667\n",
      " 0.60119048 0.67885714 0.64438095 0.66952381]\n",
      "Iteration: 10\n",
      "Firefly Accuracies: [0.69814286 0.47109524 0.73842857 0.62209524 0.65390476 0.64266667\n",
      " 0.60119048 0.67885714 0.64438095 0.66952381]\n",
      "Selected Feature Indices: [ 29  87  91 210 219 232 269 284 301 303 321 325 343 349 350 406 435 489\n",
      " 534 556 574 602 603 650 718 726 731 771]\n"
     ]
    }
   ],
   "source": [
    "num_selected_features = 28\n",
    "result = firefly_algorithm_feature_selection(np.array(X_train), np.array(y_train), np.array(X_test), np.array(y_test), num_fireflies=10, num_iterations=10, num_selected_features=num_selected_features, beta=5.0)"
   ]
  },
  {
   "cell_type": "code",
   "execution_count": 15,
   "metadata": {},
   "outputs": [],
   "source": [
    "X_train_subset = X_train.iloc[:, result]\n",
    "X_test_subset = X_test.iloc[:, result]\n",
    "\n",
    "clf = RandomForestClassifier(n_estimators=100, random_state=42)\n",
    "clf.fit(X_train_subset, y_train)\n",
    "y_pred = clf.predict(X_test_subset)\n",
    "acc = accuracy_score(y_test, y_pred)"
   ]
  },
  {
   "cell_type": "code",
   "execution_count": 16,
   "metadata": {},
   "outputs": [
    {
     "name": "stdout",
     "output_type": "stream",
     "text": [
      "0.814\n"
     ]
    }
   ],
   "source": [
    "print(acc)"
   ]
  }
 ],
 "metadata": {
  "kernelspec": {
   "display_name": "Python 3",
   "language": "python",
   "name": "python3"
  },
  "language_info": {
   "codemirror_mode": {
    "name": "ipython",
    "version": 3
   },
   "file_extension": ".py",
   "mimetype": "text/x-python",
   "name": "python",
   "nbconvert_exporter": "python",
   "pygments_lexer": "ipython3",
   "version": "3.11.4"
  }
 },
 "nbformat": 4,
 "nbformat_minor": 2
}
